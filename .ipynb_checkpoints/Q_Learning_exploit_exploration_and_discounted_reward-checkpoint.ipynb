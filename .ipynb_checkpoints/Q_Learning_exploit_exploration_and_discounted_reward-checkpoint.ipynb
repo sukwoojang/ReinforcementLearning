{
 "cells": [
  {
   "cell_type": "markdown",
   "metadata": {},
   "source": [
    "# Exploit & Exploration\n",
    "* 기존의 Dummy Q-Learning 알고리즘에는 문제가 있다\n",
    "    * 학습된 길이 최적이 아니며 갔던 길로만 계속 가는 문제가 발생, 어느 시점 부터는 한 가지 길만 채용, Q의 입장에서는 최적이 아닌 길이 최적의 상태라고 여김\n",
    "* Exploit : 현재 있는 값을 이용\n",
    "* Exploration : 도전이나 모험을 한다\n",
    "* E-greedy & decaying E-greedy & add random noise"
   ]
  },
  {
   "cell_type": "code",
   "execution_count": null,
   "metadata": {},
   "outputs": [],
   "source": [
    "# E-greedy\n",
    "e = 0.1\n",
    "if rand < e: # 일정확률로 랜덤으로 감\n",
    "    a = random\n",
    "else:\n",
    "    a = armax(Q(s,a))\n",
    "    \n",
    "# decaying E-greedy\n",
    "for i in range(1000):\n",
    "    e = 0.1 / (i + 1) # 학습할수록 e값이 작아짐, 즉 가면 갈수록 갔던 길로만 감\n",
    "    if random(1) < e:\n",
    "        a = random\n",
    "    else:\n",
    "        a = argmax(Q(s,a))\n",
    "        \n",
    "# add random noise\n",
    "for i in range(1000):\n",
    "    a = argmax(Q(s,a) + random_values/(i+1)) # noise가 점점 작아짐"
   ]
  },
  {
   "cell_type": "markdown",
   "metadata": {},
   "source": [
    "* E&E 알고리즘의 경우 어떤 상태에서 동일한 보상 값은 agent에게 혼란을 줌\n",
    "* <font color =red>discounted reward</font>의 개념이 필요\n",
    "\n",
    "    $ \\hat{Q}(s,a) = r + max\\hat{Q}(s',a') $ (기존의 Q)\n",
    "* 미래의 보상을 당장의 보상보다 약하게 할인율을 적용한다\n",
    "$ \\hat{Q}(s,a) = r + \\gamma * max\\hat{Q}(s',a') $ ($ \\gamma $는 할인율)\n",
    "* 위 Q를 fronzen lake에 적용하면 골을 향해 가는 길이 돌아서 갈수록 보상이 약해짐, 즉 최적의 길을 찾을 수 있다\n",
    "\n",
    "(위 $\\hat{Q}$는 모두 Q의 추정값이다, 단 유한한 state수와 같은 상을 받는 경우 최적의 Q로 수렴한다)"
   ]
  },
  {
   "cell_type": "code",
   "execution_count": 1,
   "metadata": {},
   "outputs": [],
   "source": [
    "import gym\n",
    "import numpy as np\n",
    "import matplotlib.pyplot as plt\n",
    "from gym.envs.registration import register\n",
    "\n",
    "register(\n",
    "    id = 'FrozenLake-v3',\n",
    "    entry_point = 'gym.envs.toy_text:FrozenLakeEnv',\n",
    "    kwargs={'map_name' : '4x4',\n",
    "            'is_slippery' : False}\n",
    ")\n",
    "env = gym.make('FrozenLake-v3') # environment 생성\n",
    "\n",
    "Q = np.zeros([env.observation_space.n, env.action_space.n]) # 16개의 S, 4개의 A\n",
    "num_episodes = 2000 # 2000번 정도의 루프 학습\n",
    "\n",
    "dis = 0.99\n",
    "rList =[]\n",
    "\n",
    "for i in range(num_episodes):\n",
    "    state = env.reset()\n",
    "    rAll = 0\n",
    "    done = False\n",
    "    e = 1. / ((i//100) + 1)\n",
    "    \n",
    "    while not done:\n",
    "        '''action = np.argmax(Q[state,:] + np.random.randn(1, env.action_space.n)/(i+1))\n",
    "        '''# add noise\n",
    "        \n",
    "        if np.random.rand(1) < e:\n",
    "            action = env.action_space.sample()\n",
    "        else:\n",
    "            action = np.argmax(Q[state, :]) # decaying e-greedy\n",
    "        \n",
    "        new_state, reward, done, _ = env.step(action)\n",
    "    \n",
    "        Q[state, action] = reward + dis * np.max(Q[new_state,:])\n",
    "        \n",
    "        rAll += reward\n",
    "        state = new_state\n",
    "    \n",
    "    rList.append(rAll)\n"
   ]
  },
  {
   "cell_type": "code",
   "execution_count": 2,
   "metadata": {},
   "outputs": [
    {
     "name": "stdout",
     "output_type": "stream",
     "text": [
      "Success rate : 0.799\n",
      "L D R U\n",
      "[[0.94148015 0.95099005 0.95099005 0.94148015]\n",
      " [0.94148015 0.         0.96059601 0.95099005]\n",
      " [0.95099005 0.970299   0.95099005 0.96059601]\n",
      " [0.96059601 0.         0.         0.        ]\n",
      " [0.95099005 0.96059601 0.         0.94148015]\n",
      " [0.         0.         0.         0.        ]\n",
      " [0.         0.9801     0.         0.96059601]\n",
      " [0.         0.         0.         0.        ]\n",
      " [0.96059601 0.         0.970299   0.95099005]\n",
      " [0.96059601 0.9801     0.9801     0.        ]\n",
      " [0.970299   0.99       0.         0.970299  ]\n",
      " [0.         0.         0.         0.        ]\n",
      " [0.         0.         0.         0.        ]\n",
      " [0.         0.9801     0.99       0.970299  ]\n",
      " [0.9801     0.99       1.         0.9801    ]\n",
      " [0.         0.         0.         0.        ]]\n"
     ]
    },
    {
     "data": {
      "image/png": "[encoded data removed]",
      "text/plain": [
       "<Figure size 432x288 with 1 Axes>"
      ]
     },
     "metadata": {
      "needs_background": "light"
     },
     "output_type": "display_data"
    }
   ],
   "source": [
    "print('Success rate : ' + str(sum(rList)/num_episodes))\n",
    "print('L D R U')\n",
    "print(Q)\n",
    "plt.bar(range(len(rList)), rList, color = 'blue')\n",
    "plt.show()"
   ]
  },
  {
   "cell_type": "code",
   "execution_count": null,
   "metadata": {},
   "outputs": [],
   "source": []
  }
 ],
 "metadata": {
  "kernelspec": {
   "display_name": "Python 3",
   "language": "python",
   "name": "python3"
  },
  "language_info": {
   "codemirror_mode": {
    "name": "ipython",
    "version": 3
   },
   "file_extension": ".py",
   "mimetype": "text/x-python",
   "name": "python",
   "nbconvert_exporter": "python",
   "pygments_lexer": "ipython3",
   "version": "3.7.1"
  }
 },
 "nbformat": 4,
 "nbformat_minor": 2
}
