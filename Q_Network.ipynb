{
 "cells": [
  {
   "cell_type": "markdown",
   "metadata": {},
   "source": [
    "# Q-Network\n",
    "* 실전 문제에서는 앞서 공부하던 Q-Table을 적용할 수가 없음\n",
    "* 기존 방식은 state, action을 input으로 q-value를 얻었다면 새로운 방식은 state를 input으로 모든 action에 대한 q-value를 output으로 가진다\n",
    "\n",
    "$ y = r + {\\gamma}maxQ(s') $ <p>\n",
    "$ cost(W) = (\\hat{Q} - y)^2  $ <p> $ (\\hat{Q} = Ws)$\n",
    "    \n",
    "* neural net에서는 Q가 수렴하지 않는다 -> 해결법은 DQN (Deep, Replay, Seperated Network)"
   ]
  },
  {
   "cell_type": "code",
   "execution_count": 2,
   "metadata": {},
   "outputs": [],
   "source": [
    "import numpy as np\n",
    "import tensorflow as tf\n",
    "import gym\n",
    "import matplotlib.pyplot as plt\n",
    "\n",
    "def one_hot(x):\n",
    "    return np.identity(16)[x:x+1]"
   ]
  },
  {
   "cell_type": "code",
   "execution_count": 4,
   "metadata": {},
   "outputs": [],
   "source": [
    "env = gym.make('FrozenLake-v0')\n",
    "\n",
    "input_size = env.observation_space.n\n",
    "output_size = env.action_space.n\n",
    "learning_rate = 0.1\n",
    "\n",
    "X = tf.placeholder(shape =[1, input_size], dtype = tf.float32)\n",
    "W = tf.Variable(tf.random_uniform([input_size, output_size], 0, 0.01))\n",
    "\n",
    "Qpred = tf.matmul(X, W)\n",
    "Y = tf.placeholder(shape=[1, output_size], dtype=tf.float32)\n",
    "\n",
    "loss = tf.reduce_sum(tf.square(Y - Qpred))\n",
    "train = tf.train.GradientDescentOptimizer(learning_rate = learning_rate).minimize(loss)\n",
    "\n",
    "dis = 0.99\n",
    "num_episodes = 2000\n",
    "\n",
    "rList = []\n",
    "init = tf.global_variables_initializer()\n",
    "\n",
    "with tf.Session() as sess:\n",
    "    sess.run(init)\n",
    "    for i in range(num_episodes):\n",
    "        \n",
    "        s = env.reset()\n",
    "        e = 1./((i/50) + 10)\n",
    "        rAll = 0\n",
    "        done = False\n",
    "        local_loss = []\n",
    "        \n",
    "        while not done:\n",
    "            \n",
    "            Qs = sess.run(Qpred, feed_dict = {X: one_hot(s)})\n",
    "            if np.random.rand(1) < e:\n",
    "                a = env.action_space.sample()\n",
    "            else:\n",
    "                a = np.argmax(Qs)\n",
    "            \n",
    "            s1, reward, done, _ = env.step(a)\n",
    "            \n",
    "            if done:\n",
    "                Qs[0, a] = reward\n",
    "            else:\n",
    "                Qs1 = sess.run(Qpred, feed_dict={X: one_hot(s1)})\n",
    "                Qs[0,a] = reward + dis * np.max(Qs1)\n",
    "                \n",
    "            sess.run(train, feed_dict = {X: one_hot(s), Y:Qs})\n",
    "            \n",
    "            rAll += reward\n",
    "            s = s1\n",
    "        rList.append(rAll)"
   ]
  },
  {
   "cell_type": "code",
   "execution_count": 5,
   "metadata": {},
   "outputs": [
    {
     "name": "stdout",
     "output_type": "stream",
     "text": [
      "Success rate : 0.4785\n"
     ]
    },
    {
     "data": {
      "image/png": "[encoded data removed]",
      "text/plain": [
       "<Figure size 432x288 with 1 Axes>"
      ]
     },
     "metadata": {
      "needs_background": "light"
     },
     "output_type": "display_data"
    }
   ],
   "source": [
    "print('Success rate : ' + str(sum(rList)/num_episodes))\n",
    "plt.bar(range(len(rList)), rList, color = 'blue')\n",
    "plt.show()\n",
    "# 결과가 안좋은 것을 확인할 수 있다 이유는 수렴하지 않기 때문에"
   ]
  },
  {
   "cell_type": "code",
   "execution_count": null,
   "metadata": {},
   "outputs": [],
   "source": []
  }
 ],
 "metadata": {
  "kernelspec": {
   "display_name": "Python 3",
   "language": "python",
   "name": "python3"
  },
  "language_info": {
   "codemirror_mode": {
    "name": "ipython",
    "version": 3
   },
   "file_extension": ".py",
   "mimetype": "text/x-python",
   "name": "python",
   "nbconvert_exporter": "python",
   "pygments_lexer": "ipython3",
   "version": "3.7.1"
  }
 },
 "nbformat": 4,
 "nbformat_minor": 2
}
