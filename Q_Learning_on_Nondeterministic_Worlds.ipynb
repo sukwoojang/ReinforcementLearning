{
 "cells": [
  {
   "cell_type": "markdown",
   "metadata": {},
   "source": [
    "## Deterministic VS Stochastic(nondeterministic)\n",
    "\n",
    "* Deterministic : 같은 액션에 항상 같은 state와 항상 같은 reward를 받는다\n",
    "* Stochastic : 같은 액션에 대해서 다른 state와 다른 reward를 받을 수 있다\n",
    "\n",
    "(Stochastic의 경우 $ \\hat{Q}(s,a) = r + \\gamma * max\\hat{Q}(s',a') $를 적용해도 성공률이 저조함)\n",
    "* 해결방법은 Q에게 과하게 의존하지 않고 조금만 정보를 받아오는 방식, learning rate $ \\alpha $를 추가한다\n",
    "$ (1-\\alpha)\\hat{Q}(s,a) + \\alpha[r + {\\gamma}max\\hat{Q}(s',a')]$\n",
    "(이 역시 최적 Q로 수렴한다)"
   ]
  },
  {
   "cell_type": "code",
   "execution_count": 2,
   "metadata": {},
   "outputs": [],
   "source": [
    "# Stochastic 기존방법\n",
    "import gym\n",
    "import numpy as np\n",
    "import matplotlib.pyplot as plt\n",
    "from gym.envs.registration import register\n",
    "\n",
    "register(\n",
    "    id = 'FrozenLake-v3',\n",
    "    entry_point = 'gym.envs.toy_text:FrozenLakeEnv',\n",
    "    kwargs={'map_name' : '4x4',\n",
    "            'is_slippery' : True} # Stochastic\n",
    ")\n",
    "env = gym.make('FrozenLake-v3') # environment 생성\n",
    "\n",
    "Q = np.zeros([env.observation_space.n, env.action_space.n]) # 16개의 S, 4개의 A\n",
    "num_episodes = 2000 # 2000번 정도의 루프 학습\n",
    "\n",
    "dis = 0.99\n",
    "rList =[]\n",
    "\n",
    "for i in range(num_episodes):\n",
    "    state = env.reset()\n",
    "    rAll = 0\n",
    "    done = False\n",
    "    e = 1. / ((i//100) + 1)\n",
    "    \n",
    "    while not done:\n",
    "        action = np.argmax(Q[state,:] + np.random.randn(1, env.action_space.n)/(i+1))\n",
    "        # add noise\n",
    "        \n",
    "        '''if np.random.rand(1) < e:\n",
    "            action = env.action_space.sample()\n",
    "        else:\n",
    "            action = np.argmax(Q[state, :]) # decaying e-greedy\n",
    "        '''\n",
    "        new_state, reward, done, _ = env.step(action)\n",
    "    \n",
    "        Q[state, action] = reward + dis * np.max(Q[new_state,:])\n",
    "        \n",
    "        rAll += reward\n",
    "        state = new_state\n",
    "    \n",
    "    rList.append(rAll)\n"
   ]
  },
  {
   "cell_type": "code",
   "execution_count": 3,
   "metadata": {},
   "outputs": [
    {
     "name": "stdout",
     "output_type": "stream",
     "text": [
      "Success rate : 0.0205\n",
      "L D R U\n",
      "[[0.         0.         0.         0.        ]\n",
      " [0.         0.         0.         0.        ]\n",
      " [0.         0.         0.         0.        ]\n",
      " [0.         0.         0.         0.        ]\n",
      " [0.         0.         0.         0.        ]\n",
      " [0.         0.         0.         0.        ]\n",
      " [0.         0.         0.         0.        ]\n",
      " [0.         0.         0.         0.        ]\n",
      " [0.         0.         0.         0.        ]\n",
      " [0.         0.         0.         0.        ]\n",
      " [0.         0.         0.         0.        ]\n",
      " [0.         0.         0.         0.        ]\n",
      " [0.         0.         0.         0.        ]\n",
      " [0.         0.         0.         0.        ]\n",
      " [0.         0.96059601 0.         0.        ]\n",
      " [0.         0.         0.         0.        ]]\n"
     ]
    },
    {
     "data": {
      "image/png": "[encoded data removed]",
      "text/plain": [
       "<Figure size 432x288 with 1 Axes>"
      ]
     },
     "metadata": {
      "needs_background": "light"
     },
     "output_type": "display_data"
    }
   ],
   "source": [
    "print('Success rate : ' + str(sum(rList)/num_episodes))\n",
    "print('L D R U')\n",
    "print(Q)\n",
    "plt.bar(range(len(rList)), rList, color = 'blue')\n",
    "plt.show()"
   ]
  },
  {
   "cell_type": "code",
   "execution_count": 5,
   "metadata": {},
   "outputs": [],
   "source": [
    "# Stochastic 새방법\n",
    "import gym\n",
    "import numpy as np\n",
    "import matplotlib.pyplot as plt\n",
    "from gym.envs.registration import register\n",
    "\n",
    "env = gym.make('FrozenLake-v3') # environment 생성\n",
    "\n",
    "Q = np.zeros([env.observation_space.n, env.action_space.n]) # 16개의 S, 4개의 A\n",
    "num_episodes = 2000 # 2000번 정도의 루프 학습\n",
    "\n",
    "dis = 0.99\n",
    "rList =[]\n",
    "learning_rate = 0.85\n",
    "for i in range(num_episodes):\n",
    "    state = env.reset()\n",
    "    rAll = 0\n",
    "    done = False\n",
    "    e = 1. / ((i//100) + 1)\n",
    "    \n",
    "    while not done:\n",
    "        action = np.argmax(Q[state,:] + np.random.randn(1, env.action_space.n)/(i+1))\n",
    "        # add noise\n",
    "        new_state, reward, done, _ = env.step(action)\n",
    "    \n",
    "        Q[state, action] = (1-learning_rate) * Q[state,action] + learning_rate*(reward + dis * np.max(Q[new_state,:]))\n",
    "        \n",
    "        rAll += reward\n",
    "        state = new_state\n",
    "    \n",
    "    rList.append(rAll)"
   ]
  },
  {
   "cell_type": "code",
   "execution_count": 7,
   "metadata": {},
   "outputs": [
    {
     "name": "stdout",
     "output_type": "stream",
     "text": [
      "Success rate : 0.594\n",
      "L D R U\n",
      "[[4.23232866e-01 1.60430996e-02 1.81944998e-02 2.30103686e-03]\n",
      " [1.72358625e-04 1.80389653e-03 1.45693252e-03 7.55911878e-01]\n",
      " [3.70077565e-03 2.11470922e-03 1.20506424e-03 5.93719118e-01]\n",
      " [0.00000000e+00 6.25746296e-03 0.00000000e+00 4.19529512e-01]\n",
      " [7.48707700e-01 0.00000000e+00 2.55941152e-03 1.74932974e-03]\n",
      " [0.00000000e+00 0.00000000e+00 0.00000000e+00 0.00000000e+00]\n",
      " [1.20180665e-04 1.23974616e-05 2.39395167e-04 1.48905365e-08]\n",
      " [0.00000000e+00 0.00000000e+00 0.00000000e+00 0.00000000e+00]\n",
      " [6.93931394e-04 2.74368437e-03 1.99776009e-03 3.34976299e-01]\n",
      " [2.58448845e-04 5.72945873e-02 1.55679788e-03 0.00000000e+00]\n",
      " [4.69464020e-01 5.90899423e-04 0.00000000e+00 3.26076355e-04]\n",
      " [0.00000000e+00 0.00000000e+00 0.00000000e+00 0.00000000e+00]\n",
      " [0.00000000e+00 0.00000000e+00 0.00000000e+00 0.00000000e+00]\n",
      " [0.00000000e+00 2.80800004e-03 7.17267888e-01 0.00000000e+00]\n",
      " [0.00000000e+00 0.00000000e+00 0.00000000e+00 9.57966800e-01]\n",
      " [0.00000000e+00 0.00000000e+00 0.00000000e+00 0.00000000e+00]]\n"
     ]
    },
    {
     "data": {
      "image/png": "[encoded data removed]",
      "text/plain": [
       "<Figure size 432x288 with 1 Axes>"
      ]
     },
     "metadata": {
      "needs_background": "light"
     },
     "output_type": "display_data"
    }
   ],
   "source": [
    "print('Success rate : ' + str(sum(rList)/num_episodes))\n",
    "print('L D R U')\n",
    "print(Q)\n",
    "plt.bar(range(len(rList)), rList, color = 'blue')\n",
    "plt.show()"
   ]
  },
  {
   "cell_type": "code",
   "execution_count": 4,
   "metadata": {},
   "outputs": [
    {
     "name": "stdout",
     "output_type": "stream",
     "text": [
      "7\n"
     ]
    }
   ],
   "source": [
    "print(state)"
   ]
  },
  {
   "cell_type": "code",
   "execution_count": null,
   "metadata": {},
   "outputs": [],
   "source": []
  }
 ],
 "metadata": {
  "kernelspec": {
   "display_name": "Python 3",
   "language": "python",
   "name": "python3"
  },
  "language_info": {
   "codemirror_mode": {
    "name": "ipython",
    "version": 3
   },
   "file_extension": ".py",
   "mimetype": "text/x-python",
   "name": "python",
   "nbconvert_exporter": "python",
   "pygments_lexer": "ipython3",
   "version": "3.7.1"
  }
 },
 "nbformat": 4,
 "nbformat_minor": 2
}
