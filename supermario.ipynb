{
 "cells": [
  {
   "cell_type": "code",
   "execution_count": 3,
   "metadata": {},
   "outputs": [
    {
     "ename": "ModuleNotFoundError",
     "evalue": "No module named 'gym.scoreboard'",
     "output_type": "error",
     "traceback": [
      "\u001b[1;31m---------------------------------------------------------------------------\u001b[0m",
      "\u001b[1;31mModuleNotFoundError\u001b[0m                       Traceback (most recent call last)",
      "\u001b[1;32m<ipython-input-3-57b51c8d5015>\u001b[0m in \u001b[0;36m<module>\u001b[1;34m\u001b[0m\n\u001b[0;32m      1\u001b[0m \u001b[1;32mimport\u001b[0m \u001b[0mgym\u001b[0m\u001b[1;33m\u001b[0m\u001b[1;33m\u001b[0m\u001b[0m\n\u001b[0;32m      2\u001b[0m \u001b[1;32mfrom\u001b[0m \u001b[0mgym\u001b[0m\u001b[1;33m.\u001b[0m\u001b[0menvs\u001b[0m\u001b[1;33m.\u001b[0m\u001b[0mregistration\u001b[0m \u001b[1;32mimport\u001b[0m \u001b[0mregister\u001b[0m\u001b[1;33m\u001b[0m\u001b[1;33m\u001b[0m\u001b[0m\n\u001b[1;32m----> 3\u001b[1;33m \u001b[1;32mfrom\u001b[0m \u001b[0mgym\u001b[0m\u001b[1;33m.\u001b[0m\u001b[0mscoreboard\u001b[0m\u001b[1;33m.\u001b[0m\u001b[0mregistration\u001b[0m \u001b[1;32mimport\u001b[0m \u001b[0madd_group\u001b[0m\u001b[1;33m\u001b[0m\u001b[1;33m\u001b[0m\u001b[0m\n\u001b[0m\u001b[0;32m      4\u001b[0m \u001b[1;32mfrom\u001b[0m \u001b[0mgym\u001b[0m\u001b[1;33m.\u001b[0m\u001b[0mscoreboard\u001b[0m\u001b[1;33m.\u001b[0m\u001b[0mregistration\u001b[0m \u001b[1;32mimport\u001b[0m \u001b[0madd_task\u001b[0m\u001b[1;33m\u001b[0m\u001b[1;33m\u001b[0m\u001b[0m\n\u001b[0;32m      5\u001b[0m register(\n",
      "\u001b[1;31mModuleNotFoundError\u001b[0m: No module named 'gym.scoreboard'"
     ]
    }
   ],
   "source": [
    "import gym\n",
    "from gym.envs.registration import register\n",
    "from gym.scoreboard.registration import add_group\n",
    "from gym.scoreboard.registration import add_task\n",
    "register(\n",
    "     id='SuperMarioBros-1-1-v0',\n",
    "     entry_point='gym.envs.ppaquette_gym_super_mario:MetaSuperMarioBrosEnv',\n",
    ")\n",
    "\n",
    "add_group(\n",
    "     id='ppaquette_gym_super_mario',\n",
    "     name='ppaquette_gym_super_mario',\n",
    "     description='super_mario'\n",
    ")\n",
    "\n",
    "add_task(\n",
    "    id='SuperMarioBros-1-1-v0',\n",
    "    group='ppaquette_gym_super_mario',\n",
    "    summary=\"SuperMarioBros-1-1-v0\"\n",
    ")\n"
   ]
  },
  {
   "cell_type": "code",
   "execution_count": null,
   "metadata": {},
   "outputs": [],
   "source": []
  }
 ],
 "metadata": {
  "kernelspec": {
   "display_name": "Python 3",
   "language": "python",
   "name": "python3"
  },
  "language_info": {
   "codemirror_mode": {
    "name": "ipython",
    "version": 3
   },
   "file_extension": ".py",
   "mimetype": "text/x-python",
   "name": "python",
   "nbconvert_exporter": "python",
   "pygments_lexer": "ipython3",
   "version": "3.7.1"
  }
 },
 "nbformat": 4,
 "nbformat_minor": 2
}
